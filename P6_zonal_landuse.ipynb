{
 "cells": [
  {
   "cell_type": "code",
   "execution_count": 2,
   "id": "c83f4700-aa3b-410e-aa6a-f1057438b318",
   "metadata": {},
   "outputs": [],
   "source": [
    "import os\n",
    "import numpy as np\n",
    "import pandas as pd\n",
    "import rasterstats as rstats\n",
    "import geopandas as gpd\n",
    "import rasterio"
   ]
  },
  {
   "cell_type": "code",
   "execution_count": 7,
   "id": "3ae8aaa5-48ee-4edc-be94-b85f245bcb5b",
   "metadata": {},
   "outputs": [],
   "source": [
    "shp='e:/PeruProject/landuse/landuse_sm.shp'\n",
    "gdf=gpd.read_file(shp)\n",
    "landT = gdf['gridcode'].to_list()\n",
    "row_s=len(landT)"
   ]
  },
  {
   "cell_type": "code",
   "execution_count": 16,
   "id": "fac58bf5-0978-4971-a69f-b6fb15c7bf5c",
   "metadata": {},
   "outputs": [
    {
     "name": "stdout",
     "output_type": "stream",
     "text": [
      "60\n"
     ]
    }
   ],
   "source": [
    "print(landT[0])"
   ]
  },
  {
   "cell_type": "code",
   "execution_count": 8,
   "id": "e80bb7ae-4ea1-4f71-8710-674eaebda316",
   "metadata": {},
   "outputs": [],
   "source": [
    "f1='e:/PeruProject/WRF_var/wrf_hist_Total.tif'\n",
    "f2='e:/PeruProject/WRF_var/wrf_fu_Total.tif'\n",
    "r = rstats.zonal_stats(shp,f1, stats='mean', nodata=np.nan, alltouched = True)\n",
    "# extract values\n",
    "v=[]\n",
    "for ii in range(row_s):\n",
    "    mR = {**r[ii]}['mean']\n",
    "    v.append(mR)\n",
    "ds=pd.DataFrame({'Code':landT,'Value':v}).groupby(['Code'],dropna = True).sum()\n",
    "ds.to_csv('e:/PeruProject/3rdpaper/landuse_roff_hist.csv')"
   ]
  },
  {
   "cell_type": "code",
   "execution_count": 21,
   "id": "ee6010c4-13fb-485b-a5eb-e2bedd16bb5d",
   "metadata": {},
   "outputs": [],
   "source": [
    "ds=pd.DataFrame({'Code':landT,'Value':v}).groupby(['Code'],dropna= True).sum()\n",
    "ds.to_csv('d:/PeruProject/3rdpaper/landuse_roff_hist.csv')"
   ]
  }
 ],
 "metadata": {
  "kernelspec": {
   "display_name": "Python 3 (ipykernel)",
   "language": "python",
   "name": "python3"
  },
  "language_info": {
   "codemirror_mode": {
    "name": "ipython",
    "version": 3
   },
   "file_extension": ".py",
   "mimetype": "text/x-python",
   "name": "python",
   "nbconvert_exporter": "python",
   "pygments_lexer": "ipython3",
   "version": "3.12.3"
  }
 },
 "nbformat": 4,
 "nbformat_minor": 5
}
