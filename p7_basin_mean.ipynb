{
 "cells": [
  {
   "cell_type": "code",
   "execution_count": 1,
   "id": "3a3b63b1",
   "metadata": {},
   "outputs": [],
   "source": [
    "import pandas as pd\n",
    "import geopandas as gpd\n",
    "from osgeo import gdal,gdal_array,osr\n",
    "import os\n",
    "import numpy as np\n",
    "import datetime as dt\n",
    "import rasterstats as rs"
   ]
  },
  {
   "cell_type": "code",
   "execution_count": 2,
   "id": "53f0f94c",
   "metadata": {},
   "outputs": [],
   "source": [
    "gld_acsF='e:/PeruProject/WRF_var/gldas_noah_AcS/'\n",
    "gld_acswF='e:/PeruProject/WRF_var/gldas_noah_AcSW/'\n",
    "gld_shF='e:/PeruProject/WRF_var/gldas_noah_SH/'\n",
    "wr_acsF='e:/PeruProject/WRF_var/wrf_noah_acS/'\n",
    "wr_acswF='e:/PeruProject/WRF_var/wrf_noah_acSM/'\n",
    "wr_shF='e:/PeruProject/WRF_var/wrf_noah_SH/'"
   ]
  },
  {
   "cell_type": "code",
   "execution_count": 3,
   "id": "f5792faf",
   "metadata": {},
   "outputs": [],
   "source": [
    "folders=[gld_acsF,wr_acsF,gld_acswF,wr_acswF]"
   ]
  },
  {
   "cell_type": "code",
   "execution_count": 17,
   "id": "7dc8d9f1",
   "metadata": {},
   "outputs": [],
   "source": [
    "df=[]\n",
    "for f in folders:\n",
    "    flist=sorted(os.listdir(f))\n",
    "    drs=[]\n",
    "    for fl in flist:\n",
    "        ds=gdal.Open(f+fl)\n",
    "        d=ds.GetRasterBand(1).ReadAsArray()\n",
    "        \n",
    "        d[d<=0]=np.nan\n",
    "        m=np.nanmean(d)\n",
    "        drs.append(m)\n",
    "    df.append(drs)"
   ]
  },
  {
   "cell_type": "code",
   "execution_count": 20,
   "id": "56045620",
   "metadata": {},
   "outputs": [
    {
     "name": "stdout",
     "output_type": "stream",
     "text": [
      "4\n"
     ]
    }
   ],
   "source": [
    "print(len(df))"
   ]
  },
  {
   "cell_type": "code",
   "execution_count": 28,
   "id": "26a032bf",
   "metadata": {},
   "outputs": [],
   "source": [
    "snow=pd.DataFrame(df)\n",
    "snow=np.transpose(snow)"
   ]
  },
  {
   "cell_type": "code",
   "execution_count": 30,
   "id": "beb42da6",
   "metadata": {},
   "outputs": [
    {
     "name": "stdout",
     "output_type": "stream",
     "text": [
      "       GLDAS_snow    WRF_snow  GLDAS_snowmelt  WRF_snowmelt\n",
      "0        0.132673    0.048983     1559.261963  5.771955e+02\n",
      "1        0.132673    0.049005     1559.261963  5.771959e+02\n",
      "2        0.132674    0.049006     1559.261963  5.772900e+02\n",
      "3        0.132674    0.049006     1559.263184  5.773192e+02\n",
      "4        0.132674    0.049006     1559.267944  5.773297e+02\n",
      "...           ...         ...             ...           ...\n",
      "14603         NaN  102.690239             NaN  1.362469e+06\n",
      "14604         NaN  102.690239             NaN  1.362473e+06\n",
      "14605         NaN  102.690239             NaN  1.362483e+06\n",
      "14606         NaN  102.690346             NaN  1.362606e+06\n",
      "14607         NaN  102.691765             NaN  1.362783e+06\n",
      "\n",
      "[14608 rows x 4 columns]\n"
     ]
    }
   ],
   "source": [
    "snow.columns=['GLDAS_snow','WRF_snow','GLDAS_snowmelt','WRF_snowmelt']\n",
    "print(snow)"
   ]
  },
  {
   "cell_type": "code",
   "execution_count": 31,
   "id": "857107a9",
   "metadata": {},
   "outputs": [],
   "source": [
    "snow.to_csv('e:/PeruProject/3rdpaper/accumulatedSnow.csv')"
   ]
  },
  {
   "cell_type": "code",
   "execution_count": 32,
   "id": "221059ed",
   "metadata": {},
   "outputs": [],
   "source": [
    "folders=[gld_shF,wr_shF]\n",
    "tundra='e:/PeruProject/topography/areqPermF.shp'"
   ]
  },
  {
   "cell_type": "code",
   "execution_count": 34,
   "id": "1a131b78",
   "metadata": {},
   "outputs": [],
   "source": [
    "df=[]\n",
    "for f in folders:\n",
    "    flist=sorted(os.listdir(f))\n",
    "    drs=[]\n",
    "    for fl in flist:\n",
    "        m=rs.zonal_stats(tundra,f+fl,stats='mean')\n",
    "        \n",
    "        drs.append(m[0].get('mean'))\n",
    "    df.append(drs)"
   ]
  },
  {
   "cell_type": "code",
   "execution_count": 36,
   "id": "95ccc8ad",
   "metadata": {},
   "outputs": [
    {
     "name": "stdout",
     "output_type": "stream",
     "text": [
      "          GLDAS       WRF\n",
      "0      0.000000  0.000000\n",
      "1      0.000000  0.000966\n",
      "2      0.000002  0.000500\n",
      "3      0.000016  0.000330\n",
      "4      0.000005  0.000287\n",
      "...         ...       ...\n",
      "14603       NaN  8.682606\n",
      "14604       NaN  8.637156\n",
      "14605       NaN  8.595271\n",
      "14606       NaN  8.549350\n",
      "14607       NaN  8.584871\n",
      "\n",
      "[14608 rows x 2 columns]\n"
     ]
    }
   ],
   "source": [
    "snowH=pd.DataFrame(df)\n",
    "snowH=np.transpose(snowH)\n",
    "snowH.columns=['GLDAS','WRF']\n",
    "print(snowH)"
   ]
  },
  {
   "cell_type": "code",
   "execution_count": 37,
   "id": "8128b5c9",
   "metadata": {},
   "outputs": [],
   "source": [
    "snowH.to_csv('e:/PeruProject/3rdpaper/SnowDepth.csv')"
   ]
  }
 ],
 "metadata": {
  "kernelspec": {
   "display_name": "Python 3 (ipykernel)",
   "language": "python",
   "name": "python3"
  },
  "language_info": {
   "codemirror_mode": {
    "name": "ipython",
    "version": 3
   },
   "file_extension": ".py",
   "mimetype": "text/x-python",
   "name": "python",
   "nbconvert_exporter": "python",
   "pygments_lexer": "ipython3",
   "version": "3.12.3"
  }
 },
 "nbformat": 4,
 "nbformat_minor": 5
}
