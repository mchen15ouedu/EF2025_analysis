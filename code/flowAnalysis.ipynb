{
 "cells": [
  {
   "cell_type": "code",
   "execution_count": 1,
   "id": "ca926106",
   "metadata": {},
   "outputs": [],
   "source": [
    "import pandas as pd\n",
    "import netCDF4 as nc\n",
    "import numpy as np\n",
    "import os\n",
    "import geopandas as gpd"
   ]
  },
  {
   "cell_type": "code",
   "execution_count": 2,
   "id": "4869c576",
   "metadata": {},
   "outputs": [],
   "source": [
    "past_dirc='<CREST-VEC results for the Past time>'\n",
    "future_dirc='<CREST-VEC results for the Future Time>'\n",
    "network='<River network shpfile>'"
   ]
  },
  {
   "cell_type": "code",
   "execution_count": 3,
   "id": "bd73594d",
   "metadata": {},
   "outputs": [
    {
     "name": "stdout",
     "output_type": "stream",
     "text": [
      "        COMID   lengthkm  order_\n",
      "0    67007971   3.600556       2\n",
      "1    67007992   4.734361       4\n",
      "2    67007993  15.025808       4\n",
      "3    67007994   2.676237       4\n",
      "4    67007995   3.451361       4\n",
      "..        ...        ...     ...\n",
      "749  67010249   9.630762       1\n",
      "750  67010252   5.973005       1\n",
      "751  67010254  12.218295       1\n",
      "752  67010258   4.340974       1\n",
      "753  67010260   4.222490       1\n",
      "\n",
      "[754 rows x 3 columns]\n"
     ]
    }
   ],
   "source": [
    "length=pd.read_csv(network,usecols=['COMID', 'lengthkm','order_'],dtype={'COMID': int, 'lengthkm': float,'order_':int})\n",
    "print(length)"
   ]
  },
  {
   "cell_type": "code",
   "execution_count": 3,
   "id": "34c859f4-8c54-484f-b8cb-42ca97896701",
   "metadata": {},
   "outputs": [],
   "source": [
    "# Open the NetCDF file\n",
    "dataset = nc.Dataset(past_dirc)"
   ]
  },
  {
   "cell_type": "code",
   "execution_count": 4,
   "id": "e6c7feef-1c41-44a0-9a24-260c4de569e6",
   "metadata": {},
   "outputs": [],
   "source": [
    "past=dataset.variables['IRFroutedRunoff'][:]\n",
    "comid=dataset.variables['reachID'][:]"
   ]
  },
  {
   "cell_type": "code",
   "execution_count": 5,
   "id": "52862307-3278-4726-825b-f93f4812e648",
   "metadata": {},
   "outputs": [],
   "source": [
    "# Open the NetCDF file\n",
    "dataset = nc.Dataset(future_dirc)\n",
    "\n",
    "future=dataset.variables['IRFroutedRunoff'][:]"
   ]
  },
  {
   "cell_type": "code",
   "execution_count": 6,
   "id": "464a7b01-fe20-4018-bd46-1dd854b4c920",
   "metadata": {},
   "outputs": [],
   "source": [
    "past=past[330:,:]\n",
    "future=future[330:,:]"
   ]
  },
  {
   "cell_type": "code",
   "execution_count": 8,
   "id": "05f88a06-2aa1-4d93-b2b6-19b67afbcb56",
   "metadata": {},
   "outputs": [
    {
     "name": "stdout",
     "output_type": "stream",
     "text": [
      "(51463, 754)\n"
     ]
    }
   ],
   "source": [
    "print(np.shape(past))"
   ]
  },
  {
   "cell_type": "code",
   "execution_count": 11,
   "id": "83fcdee0-58a5-4448-a746-08b78311b33a",
   "metadata": {},
   "outputs": [],
   "source": [
    "_5yrevent=np.max(past,axis=0)\n",
    "com_bi=np.sum(np.where(future > _5yrevent, 1,0),axis=0)/24\n",
    "pdf=pd.DataFrame(np.transpose(np.vstack((comid,com_bi))),columns=['COMID','Days of floods']).to_csv('<output dir>')"
   ]
  },
  {
   "cell_type": "code",
   "execution_count": 12,
   "id": "7d5a1f65-5d87-4bbc-8941-563e7e139728",
   "metadata": {},
   "outputs": [],
   "source": [
    "past[past < 0.0003] = 0\n",
    "past[past > 0.0003] = 1\n",
    "\n",
    "future[future < 0.0003] = 0\n",
    "future[future > 0.0003] = 1\n",
    "\n",
    "past_freq=np.sum(past,axis=0)/51463*100\n",
    "future_freq=np.sum(future,axis=0)/51463*100"
   ]
  },
  {
   "cell_type": "code",
   "execution_count": 30,
   "id": "a7d0fae6-46dc-4a8d-bfdf-b1461c36bbe2",
   "metadata": {},
   "outputs": [],
   "source": [
    "pdf=pd.DataFrame(np.transpose(np.vstack((past_freq,future_freq))),columns=['Occurance: Past','Occurance: Future']).to_csv('<output dir>')"
   ]
  },
  {
   "cell_type": "code",
   "execution_count": 16,
   "id": "cbf2934f-e2ba-4ef0-8961-f03dd258aeb7",
   "metadata": {},
   "outputs": [
    {
     "name": "stdout",
     "output_type": "stream",
     "text": [
      "        COMID   lengthkm  order_  Occurance: Past  Occurance: Future\n",
      "0    67007971   3.600556       2        91.842683          60.221907\n",
      "1    67007992   4.734361       4        94.423178          73.981307\n",
      "2    67007993  15.025808       4        93.546820          73.897752\n",
      "3    67007994   2.676237       4        93.348619          73.462488\n",
      "4    67007995   3.451361       4        92.443114          73.260401\n",
      "..        ...        ...     ...              ...                ...\n",
      "749  67010249   9.630762       1        96.986184          62.790743\n",
      "750  67010252   5.973005       1        76.726969          54.707265\n",
      "751  67010254  12.218295       1        96.955094          63.717622\n",
      "752  67010258   4.340974       1        88.348911          54.099061\n",
      "753  67010260   4.222490       1        79.703865          53.494744\n",
      "\n",
      "[754 rows x 5 columns]\n"
     ]
    }
   ],
   "source": [
    "occur=np.transpose(np.vstack((past_freq,future_freq)))\n",
    "occur=pd.DataFrame(np.hstack((comid,occur)),columns=['COMID','Occurance: Past','Occurance: Future'])\n",
    "pdf=pd.merge(length,occur,on = 'COMID')\n",
    "print(pdf)"
   ]
  },
  {
   "cell_type": "code",
   "execution_count": 17,
   "id": "79f89154-36f9-4e9f-8ee5-5662f35e661a",
   "metadata": {},
   "outputs": [],
   "source": [
    "chili_length=pd.read_csv(network_chili,usecols=['COMID', 'lengthkm'],dtype={'COMID': int, 'lengthkm': float})\n",
    "calca_length=pd.read_csv(network_calca,usecols=['COMID', 'lengthkm'],dtype={'COMID': int, 'lengthkm': float})\n",
    "chili_id=chili_length['COMID'].to_list()\n",
    "calca_id=calca_length['COMID'].to_list()\n",
    "pdf_ch=pdf[pdf.iloc[:, 0].isin(chili_id)]\n",
    "pdf_ca=pdf[pdf.iloc[:, 0].isin(calca_id)]"
   ]
  },
  {
   "cell_type": "code",
   "execution_count": 22,
   "id": "15894e84-2dfa-4717-be02-3a10c9bb56df",
   "metadata": {},
   "outputs": [
    {
     "name": "stdout",
     "output_type": "stream",
     "text": [
      "               COMID  lengthkm  Occurance: Past  Occurance: Future\n",
      "order_                                                            \n",
      "1       6.700950e+07  6.881571        70.845368          48.919902\n",
      "2       6.700896e+07  6.733951        82.091914          64.446376\n",
      "3       6.700892e+07  5.618401        89.752767          78.362642\n",
      "4       6.700869e+07  6.111462        97.180346          82.236581\n",
      "5       6.700898e+07  7.103616       100.000000          99.065939\n"
     ]
    }
   ],
   "source": [
    "pdf_out=pdf_ca.groupby('order_').mean()\n",
    "print(pdf_out)"
   ]
  },
  {
   "cell_type": "code",
   "execution_count": 3,
   "id": "06e5ea91-a5b0-4a53-ab3d-d1cf45aeb9fc",
   "metadata": {},
   "outputs": [],
   "source": [
    "network_chili='e:/PeruProject/crestVec/topo/Rio_Chili.csv'\n",
    "network_calca='e:/PeruProject/crestVec/topo/Rio_Calca.csv'\n",
    "chili_length=pd.read_csv(network_chili,usecols=['COMID', 'lengthkm'],dtype={'COMID': int, 'lengthkm': float})\n",
    "calca_length=pd.read_csv(network_calca,usecols=['COMID', 'lengthkm'],dtype={'COMID': int, 'lengthkm': float})\n",
    "dataset = nc.Dataset(past_dirc)\n",
    "past=dataset.variables['IRFroutedRunoff'][:]\n",
    "comid=dataset.variables['reachID'][:]\n",
    "dataset = nc.Dataset(future_dirc)\n",
    "future=dataset.variables['IRFroutedRunoff'][:]\n",
    "dataset=[]"
   ]
  },
  {
   "cell_type": "code",
   "execution_count": 7,
   "id": "36579d22-f82a-496b-baaf-629729252f61",
   "metadata": {},
   "outputs": [],
   "source": [
    "comid=comid.reshape(754,1)"
   ]
  },
  {
   "cell_type": "code",
   "execution_count": 8,
   "id": "8c2fe62f-5cf8-411e-9ca8-7c0cebb68c7f",
   "metadata": {},
   "outputs": [],
   "source": [
    "pastT=pd.DataFrame(np.hstack((comid,np.transpose(past))))\n",
    "futureT=pd.DataFrame(np.hstack((comid,np.transpose(future))))"
   ]
  },
  {
   "cell_type": "code",
   "execution_count": 9,
   "id": "88511b11-e83b-4724-ae09-7fe199fd86c6",
   "metadata": {},
   "outputs": [],
   "source": [
    "colca_ids=[67008970,67009031,67008004]\n",
    "chili_ids=[67009162,67009190,67009280]\n",
    "chili_past=pastT[pastT.iloc[:, 0].isin(chili_ids)].to_numpy()\n",
    "calca_past=pastT[pastT.iloc[:, 0].isin(colca_ids)].to_numpy()\n",
    "chili_future=futureT[futureT.iloc[:, 0].isin(chili_ids)].to_numpy()\n",
    "calca_future=futureT[futureT.iloc[:, 0].isin(colca_ids)].to_numpy()"
   ]
  },
  {
   "cell_type": "code",
   "execution_count": 18,
   "id": "79844dd5-6fc4-4f27-b25a-d7254adf961a",
   "metadata": {},
   "outputs": [
    {
     "name": "stdout",
     "output_type": "stream",
     "text": [
      "[[6.70080040e+07 2.62996525e-01 1.06150830e+00 ... 1.93778553e+01\n",
      "  1.94720192e+01 1.95598392e+01]\n",
      " [6.70089700e+07 4.11427736e-09 1.71228010e-08 ... 1.23596680e+02\n",
      "  1.23538086e+02 1.23759964e+02]\n",
      " [6.70090310e+07 3.19888256e-03 1.23337675e-02 ... 7.29020920e+01\n",
      "  7.32736053e+01 7.36218033e+01]]\n"
     ]
    }
   ],
   "source": [
    "print(calca_past)"
   ]
  },
  {
   "cell_type": "code",
   "execution_count": 10,
   "id": "cc9b6467-c023-4fac-aea3-d9c0c9c59d8e",
   "metadata": {},
   "outputs": [],
   "source": [
    "chili=pd.DataFrame(np.transpose(np.vstack((chili_past,chili_future))),columns=['Past_Down','Past_Mid','Past_Up','Future_Down','Future_Mid','Future_Up']).to_csv('<output dir>')\n",
    "colca=pd.DataFrame(np.transpose(np.vstack((calca_past,calca_future))),columns=['Past_Down','Past_Mid','Past_Up','Future_Down','Future_Mid','Future_Up']).to_csv('<output dir>')"
   ]
  },
  {
   "cell_type": "code",
   "execution_count": 6,
   "id": "84abd3d0-6565-4f39-adfd-8c6375e9169a",
   "metadata": {},
   "outputs": [],
   "source": [
    "chili_id=chili_length['COMID'].to_list()\n",
    "calca_id=calca_length['COMID'].to_list()\n",
    "# subsetting based on the basin\n",
    "chili_past=pastT[pastT.iloc[:, 0].isin(chili_id)]\n",
    "calca_past=pastT[pastT.iloc[:, 0].isin(calca_id)]\n",
    "chili_future=futureT[futureT.iloc[:, 0].isin(chili_id)]\n",
    "calca_future=futureT[futureT.iloc[:, 0].isin(calca_id)]"
   ]
  },
  {
   "cell_type": "code",
   "execution_count": 9,
   "id": "0d703569-44b4-46c8-b99f-dc33b5cc510f",
   "metadata": {},
   "outputs": [
    {
     "name": "stdout",
     "output_type": "stream",
     "text": [
      "1.8641071368914346 5.034417194479288 0.2581328701753635 0.8547973261282711\n"
     ]
    }
   ],
   "source": [
    "#subset to 2015-01-01 and convert to binary\n",
    "past_chili = chili_past.iloc[:,330:].to_numpy()\n",
    "past_calca = calca_past.iloc[:,330:].to_numpy()\n",
    "future_chili = chili_future.iloc[:,330:].to_numpy()\n",
    "future_calca = calca_future.iloc[:,330:].to_numpy()\n",
    "# take median over time due to the voltility of the time seris, but take the mean over the space, which gives more hydrological meaning. To be discussed.\n",
    "print(np.mean(np.median(past_chili,axis=1)),np.mean(np.median(past_calca,axis=1)),np.mean(np.median(future_chili,axis=1)),np.mean(np.median(future_calca,axis=1)))"
   ]
  },
  {
   "cell_type": "code",
   "execution_count": 17,
   "id": "b6361151-2ff5-4b96-b146-55d7dd9e5861",
   "metadata": {},
   "outputs": [],
   "source": [
    "#subset to 2015-01-01 and convert to binary\n",
    "past_chili = chili_past.iloc[:,330:].to_numpy()\n",
    "past_calca = calca_past.iloc[:,330:].to_numpy()\n",
    "future_chili = chili_future.iloc[:,330:].to_numpy()\n",
    "future_calca = calca_future.iloc[:,330:].to_numpy()\n",
    "\n",
    "#rio chili\n",
    "chili_len = chili_length['lengthkm'].to_numpy()\n",
    "chili_len = chili_len.reshape(336,1)\n",
    "past_chili[past_chili < 0.0003] = 0\n",
    "past_chili[past_chili >= 0.0003] = 1\n",
    "future_chili[future_chili < 0.0003] = 0\n",
    "future_chili[future_chili >= 0.0003] = 1\n",
    "\n",
    "Rchili_len_past = np.sum(chili_len*past_chili, axis = 0)\n",
    "Rchili_len_future = np.sum(chili_len*future_chili, axis = 0)\n",
    "\n",
    "#rio calca\n",
    "calca_len = calca_length['lengthkm'].to_numpy()\n",
    "calca_len = calca_len.reshape(419,1)\n",
    "past_calca[past_calca < 0.0003] = 0\n",
    "past_calca[past_calca >= 0.0003] = 1\n",
    "future_calca[future_calca < 0.0003] = 0\n",
    "future_calca[future_calca >= 0.0003] = 1\n",
    "\n",
    "Rcalca_len_past = np.sum(calca_len*past_calca, axis = 0)\n",
    "Rcalca_len_future = np.sum(calca_len*future_calca, axis = 0)\n",
    "\n",
    "pdf=pd.DataFrame(np.transpose(np.vstack((Rchili_len_past,Rchili_len_future,Rcalca_len_past,Rcalca_len_future))),columns = ['Rio Chili_Past','Rio Chili_Future','Rio Colca_Past','Rio Colca_Future']).to_csv('<output results>')"
   ]
  }
 ],
 "metadata": {
  "kernelspec": {
   "display_name": "Python 3 (ipykernel)",
   "language": "python",
   "name": "python3"
  },
  "language_info": {
   "codemirror_mode": {
    "name": "ipython",
    "version": 3
   },
   "file_extension": ".py",
   "mimetype": "text/x-python",
   "name": "python",
   "nbconvert_exporter": "python",
   "pygments_lexer": "ipython3",
   "version": "3.12.3"
  }
 },
 "nbformat": 4,
 "nbformat_minor": 5
}
