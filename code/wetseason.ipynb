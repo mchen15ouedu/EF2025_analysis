{
 "cells": [
  {
   "cell_type": "code",
   "execution_count": 84,
   "id": "293a0a6e-ba31-4abc-b66a-83bce1f972dd",
   "metadata": {},
   "outputs": [],
   "source": [
    "import pandas as pd\n",
    "import numpy as np\n",
    "from scipy.signal import find_peaks"
   ]
  },
  {
   "cell_type": "code",
   "execution_count": 9,
   "id": "35deff64-87ac-42aa-90df-ebbf872dbfe7",
   "metadata": {},
   "outputs": [
    {
     "name": "stdout",
     "output_type": "stream",
     "text": [
      "         Past      Future  Timesteps  Past_Chili  Future_Chili  Past_Colca  \\\n",
      "0  166.998400  573.919205        0.0   13.824327     63.661362  153.174072   \n",
      "1  157.818900  698.844458        1.0   13.897498     28.189245  143.921402   \n",
      "2  159.517353  359.465429        2.0   13.981678     11.125189  145.535675   \n",
      "3  162.383473  300.180075        3.0   14.064092      7.718191  148.319382   \n",
      "4  174.392297  300.968145        4.0   14.157418      7.649389  160.234879   \n",
      "\n",
      "   Future_Colca Unnamed: 7  \n",
      "0    510.257843        NaN  \n",
      "1    670.655212        NaN  \n",
      "2    348.340240        NaN  \n",
      "3    292.461883        NaN  \n",
      "4    293.318756        NaN  \n"
     ]
    }
   ],
   "source": [
    "df = pd.read_csv('Read the sumed runoff file')\n",
    "print(df.head())"
   ]
  },
  {
   "cell_type": "code",
   "execution_count": 12,
   "id": "9a0cfdfd-6425-44bd-ba47-92729141a4c9",
   "metadata": {},
   "outputs": [],
   "source": [
    "t_Past=df['Past'].to_numpy()\n",
    "t_Future=df['Future'].to_numpy()\n",
    "chili_p=df['Past_Chili'].to_numpy()\n",
    "chili_f=df['Future_Chili'].to_numpy()\n",
    "colca_p=df['Past_Colca'].to_numpy()\n",
    "colca_f=df['Future_Colca'].to_numpy()"
   ]
  },
  {
   "cell_type": "code",
   "execution_count": 271,
   "id": "57bf41f5-a7aa-4f5a-a230-6017a5110eb3",
   "metadata": {},
   "outputs": [
    {
     "name": "stdout",
     "output_type": "stream",
     "text": [
      "[  367  3343  6502  9334 12087]\n",
      "[730, 3467, 6696, 9521, 12432]\n",
      "[1984, 4599, 7527, 10239, 13095]\n",
      "[1254 1132  831  718  663]\n"
     ]
    }
   ],
   "source": [
    "# Find indices of local maxima (ups)\n",
    "ups, _ = find_peaks(t_Past,prominence=1000)\n",
    "print(ups)\n",
    "# fine the first index that's the start of the falling limb\n",
    "start = []\n",
    "for up in ups:\n",
    "    following_start = np.where(t_Past[up:] < 550)[0]\n",
    "    if len(following_start) > 0:\n",
    "        start.append(up + following_start[0])  # Add the actual index\n",
    "print(start)\n",
    "# Find the first index below the threshold after each up\n",
    "downs = []\n",
    "for s in start:\n",
    "    # Look for the first index where the data drops below the threshold\n",
    "    following_down = np.where(t_Past[s:] < 10)[0]\n",
    "    if len(following_down) > 0:\n",
    "        downs.append(s + following_down[0])  # Add the actual index\n",
    "print(downs)\n",
    "downs = np.array(downs)\n",
    "start=np.array(start)\n",
    "# Compute index differences\n",
    "index_differences = downs -start \n",
    "index_differences = index_differences[index_differences>=50]\n",
    "print(index_differences)"
   ]
  },
  {
   "cell_type": "code",
   "execution_count": 273,
   "id": "f2c64c6d-e144-44dd-85e7-bda31054efa5",
   "metadata": {},
   "outputs": [
    {
     "name": "stdout",
     "output_type": "stream",
     "text": [
      "[1145  681  425  687  689  441 1028  775  565  342  342  342]\n"
     ]
    }
   ],
   "source": [
    "# Find indices of local maxima (ups)\n",
    "ups, _ = find_peaks(t_Future,prominence=1000)\n",
    "# fine the first index that's the start of the falling limb\n",
    "start = []\n",
    "for up in ups:\n",
    "    following_start = np.where(t_Future[up:] < 550)[0]\n",
    "    if len(following_start) > 0:\n",
    "        start.append(up + following_start[0])  # Add the actual index\n",
    "\n",
    "# Find the first index below the threshold after each up\n",
    "downs = []\n",
    "for s in start:\n",
    "    # Look for the first index where the data drops below the threshold\n",
    "    following_down = np.where(t_Future[s:] < 10)[0]\n",
    "    if len(following_down) > 0:\n",
    "        downs.append(s + following_down[0])  # Add the actual index\n",
    "\n",
    "downs = np.array(downs)\n",
    "start=np.array(start)\n",
    "# Compute index differences\n",
    "index_differences_f = downs-start\n",
    "index_differences_f = index_differences_f[index_differences_f>=50]\n",
    "print(index_differences_f)"
   ]
  },
  {
   "cell_type": "code",
   "execution_count": 275,
   "id": "549f1881-0cde-4d53-a926-ef06329a37f9",
   "metadata": {},
   "outputs": [
    {
     "name": "stdout",
     "output_type": "stream",
     "text": [
      "37.22083333333333\n"
     ]
    }
   ],
   "source": [
    "d=(np.mean(index_differences)-np.mean(index_differences_f))*3/24\n",
    "print(d)"
   ]
  },
  {
   "cell_type": "code",
   "execution_count": 335,
   "id": "5999ddc7-f7a8-47a9-ba64-28ff1df2d3af",
   "metadata": {},
   "outputs": [
    {
     "name": "stdout",
     "output_type": "stream",
     "text": [
      "[367, 519, 3335, 3344, 6502, 9334, 12056]\n",
      "[0, 0, 2418, 2418, 5882, 8363, 11675]\n",
      "[917 926 620 971]\n"
     ]
    }
   ],
   "source": [
    "# find the starting time change\n",
    "# Find indices of local maxima (ups)\n",
    "ups, _ = find_peaks(chili_p,prominence=450)\n",
    "\n",
    "# find the close to last index that's the end of the raising limb\n",
    "start = []\n",
    "for up in ups:\n",
    "    following_start = np.where(chili_p[:up] < 150)[0]\n",
    "    if len(following_start) > 0:\n",
    "        start.append(up + following_start[0])  # Add the actual index\n",
    "print(start)\n",
    "\n",
    "# Find the first index below the threshold after each up\n",
    "downs = []\n",
    "for s in start:\n",
    "    for i in range(s-1,-1,-1):\n",
    "        if chili_p[i] < 3:\n",
    "            downs.append(i)\n",
    "            break\n",
    "        elif i==0:\n",
    "            downs.append(0)\n",
    "            break\n",
    "            \n",
    "print(downs)\n",
    "downs = np.array(downs)\n",
    "start=np.array(start)\n",
    "# Compute index differences\n",
    "index_differences = start - downs\n",
    "index_differences = index_differences[index_differences>=520]\n",
    "print(index_differences)"
   ]
  },
  {
   "cell_type": "code",
   "execution_count": 345,
   "id": "c3c55520-6c8a-4097-a81e-700e1fce98ad",
   "metadata": {},
   "outputs": [
    {
     "name": "stdout",
     "output_type": "stream",
     "text": [
      "[767, 6407, 9215, 9399, 12079, 12263]\n",
      "[0, 6059, 8833, 8833, 11813, 11813]\n",
      "[767 566 450]\n"
     ]
    }
   ],
   "source": [
    "# find the starting time change\n",
    "# Find indices of local maxima (ups)\n",
    "ups, _ = find_peaks(chili_f,prominence=550)\n",
    "\n",
    "# find the close to last index that's the end of the raising limb\n",
    "start = []\n",
    "for up in ups:\n",
    "    following_start = np.where(chili_f[:up] < 150)[0]\n",
    "    if len(following_start) > 0:\n",
    "        start.append(up + following_start[0])  # Add the actual index\n",
    "print(start)\n",
    "\n",
    "# Find the first index below the threshold after each up\n",
    "downs = []\n",
    "for s in start:\n",
    "    for i in range(s-1,-1,-1):\n",
    "        if chili_f[i] < 3:\n",
    "            downs.append(i)\n",
    "            break\n",
    "        elif i==0:\n",
    "            downs.append(0)\n",
    "            break\n",
    "            \n",
    "print(downs)\n",
    "downs = np.array(downs)\n",
    "start=np.array(start)\n",
    "# Compute index differences\n",
    "index_differences_f = start - downs\n",
    "index_differences_f = index_differences_f[index_differences_f>=450]\n",
    "print(index_differences_f)"
   ]
  },
  {
   "cell_type": "code",
   "execution_count": 347,
   "id": "cca949e7-35fc-4534-b533-24cfa0d3058d",
   "metadata": {},
   "outputs": [
    {
     "name": "stdout",
     "output_type": "stream",
     "text": [
      "33.02083333333333\n"
     ]
    }
   ],
   "source": [
    "d=(np.mean(index_differences)-np.mean(index_differences_f))*3/24\n",
    "print(d)"
   ]
  },
  {
   "cell_type": "code",
   "execution_count": null,
   "id": "175409cf-a920-4591-81de-f40693e61829",
   "metadata": {},
   "outputs": [],
   "source": []
  }
 ],
 "metadata": {
  "kernelspec": {
   "display_name": "Python 3 (ipykernel)",
   "language": "python",
   "name": "python3"
  },
  "language_info": {
   "codemirror_mode": {
    "name": "ipython",
    "version": 3
   },
   "file_extension": ".py",
   "mimetype": "text/x-python",
   "name": "python",
   "nbconvert_exporter": "python",
   "pygments_lexer": "ipython3",
   "version": "3.12.3"
  }
 },
 "nbformat": 4,
 "nbformat_minor": 5
}
